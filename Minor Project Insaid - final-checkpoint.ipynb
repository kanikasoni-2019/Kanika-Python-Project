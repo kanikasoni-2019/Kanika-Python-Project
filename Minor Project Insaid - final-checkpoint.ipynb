{
 "cells": [
  {
   "cell_type": "markdown",
   "metadata": {},
   "source": [
    "# 1. Importing Packages and Modules"
   ]
  },
  {
   "cell_type": "code",
   "execution_count": null,
   "metadata": {},
   "outputs": [],
   "source": [
    "import numpy as np                     \n",
    "import pandas as pd\n",
    "pd.set_option('mode.chained_assignment', None)      # To suppress pandas warnings.\n",
    "pd.set_option('display.max_colwidth', -1)           # To display all the data in each column\n",
    "pd.options.display.max_columns = 50                 # To display every column of the dataset in head()\n",
    "\n",
    "import warnings\n",
    "warnings.filterwarnings('ignore')                   # To suppress all the warnings in the notebook.\n",
    "\n",
    "import matplotlib.pyplot as plt\n",
    "%matplotlib inline\n",
    "\n",
    "import seaborn as sns\n",
    "sns.set(style='whitegrid', font_scale=1.3, color_codes=True)      # To apply seaborn styles to the plots.\n",
    "\n",
    "from plotly.offline import init_notebook_mode, iplot\n",
    "import plotly.graph_objs as go\n",
    "import chart_studio.plotly as py\n",
    "from plotly import tools\n",
    "init_notebook_mode(connected=True)\n",
    "import pandas_profiling\n",
    "import datetime as dt\n",
    "from pandas.plotting import parallel_coordinates\n",
    "import time\n"
   ]
  },
  {
   "cell_type": "markdown",
   "metadata": {},
   "source": [
    "# 2. Importing the Data Set "
   ]
  },
  {
   "cell_type": "code",
   "execution_count": null,
   "metadata": {},
   "outputs": [],
   "source": [
    "df_NYC_Flight = pd.read_csv(\"C:\\\\Users\\\\esauson\\\\Documents\\\\Python\\\\Data Sets\\\\Term-1-master\\\\Data\\\\Projects\\\\NYC_Flight_Data\\\\NYC_Flight_Data.csv\")\n",
    "\n",
    "df_NYC_Flight.head()\n",
    "\n",
    "df_NYC_Flight.info()"
   ]
  },
  {
   "cell_type": "markdown",
   "metadata": {},
   "source": [
    "# 3. Profiling of Data Set"
   ]
  },
  {
   "cell_type": "code",
   "execution_count": null,
   "metadata": {},
   "outputs": [],
   "source": [
    "profile = df_NYC_Flight.profile_report(title=\"NYC Flight Data Profiling before Data Preprocessing\")\n",
    "\n",
    "profile.to_file(output_file = \"NYC_Flight_Data_profiling_preprocessing.html\")\n",
    "\n",
    "df_NYC_Flight.profile_report(title=\"NYC Flight Data Profiling before Data Preprocessing\",style = {'full_width':True})"
   ]
  },
  {
   "cell_type": "markdown",
   "metadata": {},
   "source": [
    "# 4. Delete NaN Values\n",
    "\n",
    "After profiling of data it was found that there are total 2.8% of missing values. So deleted all the Null values from the Data Set."
   ]
  },
  {
   "cell_type": "code",
   "execution_count": null,
   "metadata": {},
   "outputs": [],
   "source": [
    "df_NYC_Flight.dropna(inplace=True)"
   ]
  },
  {
   "cell_type": "code",
   "execution_count": null,
   "metadata": {},
   "outputs": [],
   "source": [
    "df_NYC_Flight.shape"
   ]
  },
  {
   "cell_type": "markdown",
   "metadata": {},
   "source": [
    "# 5. Converting Months number to Month Names"
   ]
  },
  {
   "cell_type": "code",
   "execution_count": null,
   "metadata": {},
   "outputs": [],
   "source": [
    "dict_month = {1:'January',2:'February',3:'March',4:'April',5:'May',6:'June',7:'July',8:'August',9:'September',10:'October',11:'November',12:'December'}\n",
    "\n",
    "for k, v in dict_month.items():\n",
    "    df_NYC_Flight['month'].replace(to_replace= k,value = v,inplace=True)\n",
    "    \n",
    "df_NYC_Flight['month'].unique()  "
   ]
  },
  {
   "cell_type": "markdown",
   "metadata": {},
   "source": [
    "# 6. Function for converting float to Timestamp"
   ]
  },
  {
   "cell_type": "code",
   "execution_count": null,
   "metadata": {},
   "outputs": [],
   "source": [
    "\"\"\"\n",
    "Doc string: \n",
    "\n",
    "This function is defined for converting float values in to time stamp values. The values in the coulumn, range from 1 digit \n",
    "to 4 digits. Following method has been adopted for different length of digits(hh mm are the values taken from the \n",
    "column values).\n",
    "\n",
    "\n",
    "Single Digit Values: 00:0m (as these are the minutes after mid -night, so hh values are filled as 00)\n",
    "Double Digit Values: 00:mm (as these are the minutes after mid -night, so hh values are filled as 00)\n",
    "Three Digit Values: h:mm\n",
    "Four Digit Values: hh:mm\n",
    "\n",
    "In case mm values are greater than 60 then they are hard coded as 59\n",
    "In case hh values are greater than 23 then they are hard coded as 23(only possible value in the data set are 24:00)\n",
    "\n",
    "\"\"\"\n",
    "\n",
    "\n",
    "def num_to_time_convert(x):\n",
    "    a = str(int(x))\n",
    "    print(a,len(a))\n",
    "\n",
    "    if len(a) ==1:\n",
    "        b = dt.time(0,int(a[0]))\n",
    "    elif len(a) ==2:\n",
    "        c = int(a[0:2])\n",
    "        if c >60:\n",
    "            print(\"Value of C is:\",c)\n",
    "            c = 59\n",
    "            b = dt.time(0,c)\n",
    "        else:\n",
    "            b = dt.time(0,int(a[0:2]))\n",
    "    elif len(a) ==3:\n",
    "        c = int(a[1:3])\n",
    "        if c >60:\n",
    "            print(\"Value of C is:\",c)\n",
    "            c = 59\n",
    "            b = dt.time(0,c)\n",
    "        else:\n",
    "            b =dt.time(int(a[0:1]),int(a[1:3])) \n",
    "    elif len(a) == 4:\n",
    "        c = int(a[2:4])\n",
    "        d = int(a[0:2])\n",
    "        print(\"Value of c is:\",c)\n",
    "        \n",
    "        print(\"Value of d is:\",d)\n",
    "        if (c >60) | (d> 23):\n",
    "            print(\"Updated Value of c is:\",c)\n",
    "            c = 59\n",
    "            d-= 1\n",
    "            print(\"Updated Value of d is:\",d)\n",
    "                \n",
    "        b = dt.time(d,c)\n",
    "    print(\"Updated time is\",b)\n",
    "    \n",
    "    return b\n"
   ]
  },
  {
   "cell_type": "markdown",
   "metadata": {},
   "source": [
    "### Converting Schedule Departure Time in To Date Time Format"
   ]
  },
  {
   "cell_type": "code",
   "execution_count": null,
   "metadata": {},
   "outputs": [],
   "source": [
    "df_NYC_Flight['sched_dep_time'] = df_NYC_Flight['sched_dep_time'].apply(num_to_time_convert)\n",
    "df_NYC_Flight['sched_dep_time'] = pd.to_datetime(df_NYC_Flight['sched_dep_time'],format = '%H:%M:%S')\n",
    "df_NYC_Flight.info()"
   ]
  },
  {
   "cell_type": "markdown",
   "metadata": {},
   "source": [
    "### Converting Departure Time in To Date Time Format"
   ]
  },
  {
   "cell_type": "code",
   "execution_count": null,
   "metadata": {
    "scrolled": true
   },
   "outputs": [],
   "source": [
    "df_NYC_Flight['dep_time'] = df_NYC_Flight['dep_time'].apply(num_to_time_convert)\n",
    "df_NYC_Flight['dep_time'] = pd.to_datetime(df_NYC_Flight['dep_time'],format = '%H:%M:%S')\n",
    "df_NYC_Flight.info()"
   ]
  },
  {
   "cell_type": "markdown",
   "metadata": {},
   "source": [
    "### Converting Scheduled Arrival Time in To Date Time Format"
   ]
  },
  {
   "cell_type": "code",
   "execution_count": null,
   "metadata": {},
   "outputs": [],
   "source": [
    "df_NYC_Flight['sched_arr_time'] = df_NYC_Flight['sched_arr_time'].apply(num_to_time_convert)\n",
    "df_NYC_Flight['sched_arr_time'] = pd.to_datetime(df_NYC_Flight['sched_arr_time'],format = '%H:%M:%S')"
   ]
  },
  {
   "cell_type": "markdown",
   "metadata": {},
   "source": [
    "### Converting Arrival Time in To Date Time Format"
   ]
  },
  {
   "cell_type": "code",
   "execution_count": null,
   "metadata": {},
   "outputs": [],
   "source": [
    "df_NYC_Flight['arr_time'] = df_NYC_Flight['arr_time'].apply(num_to_time_convert)\n",
    "df_NYC_Flight['arr_time'] = pd.to_datetime(df_NYC_Flight['arr_time'],format = '%H:%M:%S')"
   ]
  },
  {
   "cell_type": "markdown",
   "metadata": {},
   "source": [
    "# 7. Replace two letter code of Carrier with Airlines Names"
   ]
  },
  {
   "cell_type": "code",
   "execution_count": null,
   "metadata": {},
   "outputs": [],
   "source": [
    "dict_airlines = {'9E':'Endeavor Air','AA':'American Airlines','AS':'Alaska Airlines, Inc.','B6':'JetBlue Airways','DL':'Delta Air Lines','EV':'ExpressJet','F9':'Frontier Airlines','FL':'AirTran Airways','HA':'Hawaiian Airlines','MQ':'Envoy Air','OO':'SkyWest Airlines','UA':'United Airlines','US':'US Airways','VX':'Virgin America','WN':'Southwest Airlines','YV':'Mesa Airlines'}\n",
    "\n",
    "for k, v in dict_airlines.items():\n",
    "    df_NYC_Flight['carrier'].replace(to_replace= k,value = v,inplace=True)\n",
    "    \n",
    "    \n",
    "df_NYC_Flight['carrier'].unique()"
   ]
  },
  {
   "cell_type": "markdown",
   "metadata": {},
   "source": [
    "# 6. G1: Monthwise Flight Count - Line Graph"
   ]
  },
  {
   "cell_type": "code",
   "execution_count": null,
   "metadata": {},
   "outputs": [],
   "source": [
    "a = df_NYC_Flight[['month','flight']].groupby('month',sort=False).count()\n",
    "\n",
    "a.plot.line(figsize=(15,7), fontsize=15,)              # Draw Line Graph\n",
    "\n",
    "# Labeling and arranging the X-Axis and Y-Axis Ticks + Labels\n",
    "\n",
    "plt.xlabel('Month')\n",
    "plt.ylabel('Flight Count')\n",
    "index = np.arange(13)\n",
    "month_list = df_NYC_Flight['month'].unique()\n",
    "plt.xticks(index,month_list, fontsize=13, rotation=90)\n",
    "plt.title('Month Wise Flight Count',fontsize =25)\n",
    "plt.legend(loc = \"upper right\")\n",
    "\n",
    "df_NYC_Flight[['flight','month']].groupby('month',sort = False).mean().plot.line(figsize = (15,7))\n"
   ]
  },
  {
   "cell_type": "markdown",
   "metadata": {},
   "source": [
    "# G2: Top Ten Busy Destinations - Bar Graph"
   ]
  },
  {
   "cell_type": "code",
   "execution_count": null,
   "metadata": {},
   "outputs": [],
   "source": [
    "a = (df_NYC_Flight[['dest','flight',]].groupby(['dest'],sort=False).count().sort_values(by = 'flight',ascending = False)).head(10)\n",
    "a.reset_index(inplace=True)\n",
    "\n",
    "a.plot.bar(x = 'dest',y='flight',figsize=(15,5),color='DarkRed')\n",
    "\n",
    "plt.xlabel('Destination',fontsize = 15)\n",
    "plt.ylabel('Flight Count',fontsize = 15)\n",
    "plt.title('Flight Count - Top 10 Destinations',fontsize =25)\n",
    "plt.legend(loc = \"upper right\")\n"
   ]
  },
  {
   "cell_type": "markdown",
   "metadata": {},
   "source": [
    "# G3: Monthwise +  Originwise Flight Count"
   ]
  },
  {
   "cell_type": "code",
   "execution_count": null,
   "metadata": {},
   "outputs": [],
   "source": [
    "temp_df_JFK = df_NYC_Flight[['month','origin','dest','flight']][(df_NYC_Flight['origin'] == 'JFK')].groupby(['month'],sort = False)['flight'].count()\n",
    "temp_df_EWR = df_NYC_Flight[['month','origin','dest','flight']][(df_NYC_Flight['origin'] == 'EWR')].groupby(['month'],sort = False)['flight'].count()\n",
    "temp_df_LGA = df_NYC_Flight[['month','origin','dest','flight']][(df_NYC_Flight['origin'] == 'LGA')].groupby(['month'],sort = False)['flight'].count()\n",
    "\n",
    "temp_df = pd.concat([temp_df_JFK,temp_df_EWR,temp_df_LGA],axis=1)\n",
    "temp_df.columns = ['JFK','EWR','LGA']\n",
    "\n",
    "temp_df.plot.bar(figsize = (15,8),fontsize =14,colormap = 'summer',stacked = True)\n",
    "\n",
    "plt.xlabel('Month',fontsize = 15)\n",
    "plt.ylabel('Flight Count',fontsize = 15)\n",
    "plt.title('Monthwise - flight count from Origin Cities',fontsize =25)\n",
    "plt.legend(loc = \"upper right\")\n",
    "\n"
   ]
  },
  {
   "cell_type": "markdown",
   "metadata": {},
   "source": [
    "# G4: Origin Wise Flight distributon"
   ]
  },
  {
   "cell_type": "code",
   "execution_count": null,
   "metadata": {},
   "outputs": [],
   "source": [
    "df_NYC_Flight[[\"origin\",\"flight\"]].groupby(\"origin\").count().plot(kind='pie', explode=[0.05,0.05,0.05], fontsize=14, autopct='%3.1f%%', \n",
    "                                               figsize=(10,10), shadow=True, startangle=135, legend=True, cmap='prism_r',subplots=True)\n",
    "\n",
    "\n",
    "plt.title('Flight from each Origin City',fontsize = 20)\n",
    "plt.ylabel('Flight Count',fontsize = 15)"
   ]
  },
  {
   "cell_type": "markdown",
   "metadata": {},
   "source": [
    "# G5: Carrier Wise Flight Distribution"
   ]
  },
  {
   "cell_type": "code",
   "execution_count": null,
   "metadata": {},
   "outputs": [],
   "source": [
    "a=np.ones(16)*.05\n",
    "\n",
    "df_NYC_Flight[[\"carrier\",\"flight\"]].groupby(\"carrier\").count().plot(kind='pie', explode=a, fontsize=13, autopct='%2.1f%%', wedgeprops=dict(width=0.3), \n",
    "                                       startangle=160, legend=True, figsize=(15,20), cmap='plasma_r',subplots=True)\n",
    "\n",
    "plt.title('Carrier Wise Flight distribution',fontsize = 20)\n",
    "\n",
    "plt.legend(loc = \"lower left\")\n"
   ]
  },
  {
   "cell_type": "markdown",
   "metadata": {},
   "source": [
    "# G6: Busy hour of the Origin Airports "
   ]
  },
  {
   "cell_type": "code",
   "execution_count": null,
   "metadata": {},
   "outputs": [],
   "source": [
    "time_df = df_NYC_Flight[['origin','dest','carrier','dep_time','sched_dep_time']]\n",
    "\n",
    "def four_qtrs_day(data_frame):\n",
    "    \n",
    "    data_frame.set_index('dep_time',inplace = True) #defining dep time as index to use it for time function\n",
    "        \n",
    "    #Defining series for four time slots of entire day\n",
    "    \n",
    "    first_qtr_day = data_frame[['origin','dest']].between_time('0:00','06:00').groupby('origin')['dest'].count()\n",
    "    second_qtr_day = data_frame[['origin','dest']].between_time('06:01','12:00').groupby('origin')['dest'].count()\n",
    "    third_qtr_day = data_frame[['origin','dest']].between_time('12:01','18:00').groupby('origin')['dest'].count()\n",
    "    fourth_qtr_day = data_frame[['origin','dest']].between_time('18:01','23:59').groupby('origin')['dest'].count()\n",
    "    \n",
    "    #Merging four qtrs of the day for each Origin place\n",
    "    \n",
    "    time_wise_df = pd.concat([first_qtr_day,second_qtr_day,third_qtr_day,fourth_qtr_day],axis=1)\n",
    "    time_wise_df.columns= ['00-6AM','6AM-12PM','12PM-6PM','6PM-00']\n",
    "    \n",
    "    return time_wise_df\n",
    "\n",
    "a = four_qtrs_day(time_df)\n",
    "\n",
    "print(\"Final df\\n\",a)\n",
    "\n",
    "# Plot Graph \n",
    "\n",
    "a.plot.bar(figsize =(15,10),colormap = 'rainbow_r',stacked = True)"
   ]
  },
  {
   "cell_type": "markdown",
   "metadata": {},
   "source": [
    "# G7: Top 10 airline carriers which have covered Maximum distance in year 2013"
   ]
  },
  {
   "cell_type": "code",
   "execution_count": null,
   "metadata": {},
   "outputs": [],
   "source": [
    "a = pd.DataFrame(df_NYC_Flight[['carrier','distance']].groupby('carrier')['distance'].sum()/1000000).head(10)\n",
    "a.reset_index(inplace = True)\n",
    "a.columns=['Carrier','Distance']\n",
    "a = a.sort_values(by = 'Distance', axis =0, ascending = False,)\n",
    "a.plot.bar(x = 'Carrier',y = 'Distance',figsize = (15,10),yticks = np.arange(0,65,5),colormap = 'icefire')\n",
    "\n",
    "plt.xlabel('Carrier',fontsize =15)\n",
    "plt.ylabel('Distance in M Miles',fontsize =15)\n",
    "plt.title('Maximum Distance covered by Airline Carriers in Year 2013',fontsize =25)\n"
   ]
  },
  {
   "cell_type": "code",
   "execution_count": null,
   "metadata": {},
   "outputs": [],
   "source": [
    "df_NYC_Flight.info()"
   ]
  },
  {
   "cell_type": "code",
   "execution_count": null,
   "metadata": {},
   "outputs": [],
   "source": [
    "Profiling post data pre processing"
   ]
  },
  {
   "cell_type": "code",
   "execution_count": null,
   "metadata": {},
   "outputs": [],
   "source": [
    "profile = df_NYC_Flight.profile_report(title=\"NYC Flight Data Profiling After Data Preprocessing\")\n",
    "\n",
    "profile.to_file(output_file = \"NYC_Flight_Data_profiling_After_preprocessing.html\")\n",
    "\n",
    "df_NYC_Flight.profile_report(title=\"NYC Flight Data Profiling After Data Preprocessing\",style = {'full_width':True})"
   ]
  },
  {
   "cell_type": "code",
   "execution_count": null,
   "metadata": {},
   "outputs": [],
   "source": [
    "df_NYC_Flight.info()"
   ]
  },
  {
   "cell_type": "code",
   "execution_count": null,
   "metadata": {},
   "outputs": [],
   "source": []
  }
 ],
 "metadata": {
  "kernelspec": {
   "display_name": "Python3.6",
   "language": "python",
   "name": "python3.6"
  },
  "language_info": {
   "codemirror_mode": {
    "name": "ipython",
    "version": 3
   },
   "file_extension": ".py",
   "mimetype": "text/x-python",
   "name": "python",
   "nbconvert_exporter": "python",
   "pygments_lexer": "ipython3",
   "version": "3.7.4"
  }
 },
 "nbformat": 4,
 "nbformat_minor": 2
}
